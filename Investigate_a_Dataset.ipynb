{
 "cells": [
  {
   "cell_type": "markdown",
   "metadata": {},
   "source": [
    "# Project: Investigate a Dataset - [Gapminder world]\n",
    "\n",
    "## Table of Contents\n",
    "<ul>\n",
    "<li><a href=\"#intro\">Introduction</a></li>\n",
    "<li><a href=\"#wrangling\">Data Wrangling</a></li>\n",
    "<li><a href=\"#eda\">Exploratory Data Analysis</a></li>\n",
    "<li><a href=\"#conclusions\">Conclusions</a></li>\n",
    "</ul>"
   ]
  },
  {
   "cell_type": "markdown",
   "metadata": {},
   "source": [
    "<a id='intro'></a>\n",
    "## Introduction\n",
    "\n",
    "### Dataset Description \n",
    "\n",
    "> I have slected four datasets from Gapminder to analyze: \n",
    "\n",
    " >  1) GDP per capita in US dollars adjusted for inflation: it contains a column for country name and multiple columns                for the GDP per capita from 1960-2020\n",
    "   \n",
    " >  2) Total population: it contains a column for country name and multiple columns for the total population  from 1800-2100\n",
    "   \n",
    " >  3) Population density per square KM: it contains a column for country name and multiple columns for the population density \n",
    "      from 1950-2100\n",
    "      \n",
    " >  4) Annual population growth rate: it contains a column for country name and multiple columns for the population growth rate       from 1961-2020       \n",
    "      \n",
    "\n",
    "\n",
    "### Question(s) for Analysis\n",
    "> GDP per capita is often used to indicate the overall wellbeing for the average person in a given country, knowing that the questions I well try to answer are: for a certain year, is their any relationship between GDP per capita (dependent variable) and population trends (total population, population density and annual population growth, all three of them are independent variables) and if there is, which indepent variable is the most correlated to the dependent variable and is there any correlation between the independent variables."
   ]
  },
  {
   "cell_type": "code",
   "execution_count": 1,
   "metadata": {},
   "outputs": [],
   "source": [
    "import pandas as pd\n",
    "import numpy as np\n",
    "import matplotlib.pyplot as plt\n",
    "% matplotlib inline\n",
    "import seaborn as sns"
   ]
  },
  {
   "cell_type": "code",
   "execution_count": null,
   "metadata": {},
   "outputs": [],
   "source": [
    "# Upgrade pandas to use dataframe.explode() function. \n",
    "!pip install --upgrade pandas==0.25.0"
   ]
  },
  {
   "cell_type": "markdown",
   "metadata": {},
   "source": [
    "<a id='wrangling'></a>\n",
    "## Data Wrangling"
   ]
  },
  {
   "cell_type": "code",
   "execution_count": 2,
   "metadata": {},
   "outputs": [
    {
     "name": "stdout",
     "output_type": "stream",
     "text": [
      "(206, 62)\n",
      "(197, 302)\n",
      "(234, 152)\n",
      "(217, 61)\n"
     ]
    }
   ],
   "source": [
    "# creating data frames:\n",
    "# pt = total population\n",
    "# pd = population density\n",
    "# pg = population growth \n",
    "\n",
    "df_gdp = pd.read_csv('gdppercapita_us_inflation_adjusted.csv')\n",
    "df_pt = pd.read_csv('population_total.csv')\n",
    "df_pd = pd.read_csv('population_density_per_square_km.csv')\n",
    "df_pg = pd.read_csv('population_growth_annual_percent.csv')\n",
    "\n",
    "# checking the shape of each dataset:\n",
    "\n",
    "print(df_gdp.shape)\n",
    "print(df_pt.shape)\n",
    "print(df_pd.shape)\n",
    "print(df_pg.shape)\n"
   ]
  },
  {
   "cell_type": "code",
   "execution_count": 3,
   "metadata": {
    "scrolled": true
   },
   "outputs": [
    {
     "name": "stdout",
     "output_type": "stream",
     "text": [
      "12\n",
      "0\n",
      "0\n",
      "1\n",
      "object\n",
      "object\n",
      "object\n",
      "object\n"
     ]
    }
   ],
   "source": [
    "# checking for null values and the data types for the year column I have chosen to do the analysis on:\n",
    "\n",
    "print(df_gdp['2019'].isna().sum())\n",
    "print(df_pt['2019'].isna().sum())\n",
    "print(df_pd['2019'].isna().sum())\n",
    "print(df_pg['2019'].isna().sum())\n",
    "\n",
    "print(df_gdp['2019'].dtypes)\n",
    "print(df_pt['2019'].dtypes)\n",
    "print(df_pd['2019'].dtypes)\n",
    "print(df_pg['2019'].dtypes)"
   ]
  },
  {
   "cell_type": "code",
   "execution_count": 4,
   "metadata": {
    "scrolled": true
   },
   "outputs": [
    {
     "name": "stdout",
     "output_type": "stream",
     "text": [
      "0\n",
      "0\n",
      "0\n",
      "0\n",
      "object\n",
      "object\n",
      "object\n",
      "object\n"
     ]
    }
   ],
   "source": [
    "# checking for null vaules and the data data dypes of the country columns:\n",
    "\n",
    "print(df_gdp['country'].isna().sum())\n",
    "print(df_pt['country'].isna().sum())\n",
    "print(df_pd['country'].isna().sum())\n",
    "print(df_pg['country'].isna().sum())\n",
    "\n",
    "\n",
    "print(df_gdp['country'].dtypes)\n",
    "print(df_pt['country'].dtypes)\n",
    "print(df_pd['country'].dtypes)\n",
    "print(df_pg['country'].dtypes)\n"
   ]
  },
  {
   "cell_type": "markdown",
   "metadata": {},
   "source": [
    "\n",
    "## Data Cleaning\n",
    "\n",
    "since I'm only interested in comparing GDP with the population trends for a certain year, I'm going to drop out all year columns in the four datasets except for 2019 (being the most recent data (2020 is skewed because of the pandemic)). I'm going to rename the 2019 year column to an appropriate name for each dataset, combine the four datasets into one and drop out any rows with null values. finally, I'm going to change the dtype of the 2019 coumns from object to float"
   ]
  },
  {
   "cell_type": "code",
   "execution_count": 5,
   "metadata": {},
   "outputs": [
    {
     "data": {
      "text/html": [
       "<div>\n",
       "<style scoped>\n",
       "    .dataframe tbody tr th:only-of-type {\n",
       "        vertical-align: middle;\n",
       "    }\n",
       "\n",
       "    .dataframe tbody tr th {\n",
       "        vertical-align: top;\n",
       "    }\n",
       "\n",
       "    .dataframe thead th {\n",
       "        text-align: right;\n",
       "    }\n",
       "</style>\n",
       "<table border=\"1\" class=\"dataframe\">\n",
       "  <thead>\n",
       "    <tr style=\"text-align: right;\">\n",
       "      <th></th>\n",
       "      <th>country</th>\n",
       "      <th>2019</th>\n",
       "    </tr>\n",
       "  </thead>\n",
       "  <tbody>\n",
       "    <tr>\n",
       "      <th>0</th>\n",
       "      <td>Aruba</td>\n",
       "      <td>0.437</td>\n",
       "    </tr>\n",
       "    <tr>\n",
       "      <th>1</th>\n",
       "      <td>Afghanistan</td>\n",
       "      <td>2.31</td>\n",
       "    </tr>\n",
       "    <tr>\n",
       "      <th>2</th>\n",
       "      <td>Angola</td>\n",
       "      <td>3.24</td>\n",
       "    </tr>\n",
       "    <tr>\n",
       "      <th>3</th>\n",
       "      <td>Albania</td>\n",
       "      <td>−0.426</td>\n",
       "    </tr>\n",
       "    <tr>\n",
       "      <th>4</th>\n",
       "      <td>Andorra</td>\n",
       "      <td>0.179</td>\n",
       "    </tr>\n",
       "  </tbody>\n",
       "</table>\n",
       "</div>"
      ],
      "text/plain": [
       "       country    2019\n",
       "0        Aruba   0.437\n",
       "1  Afghanistan    2.31\n",
       "2       Angola    3.24\n",
       "3      Albania  −0.426\n",
       "4      Andorra   0.179"
      ]
     },
     "execution_count": 5,
     "metadata": {},
     "output_type": "execute_result"
    }
   ],
   "source": [
    "# Droping all year columns excpet for 2019:\n",
    "\n",
    "df_gdp.drop(df_gdp.columns.difference(['country','2019']), 1, inplace=True)\n",
    "df_pt.drop(df_pt.columns.difference(['country','2019']), 1, inplace=True)\n",
    "df_pd.drop(df_pd.columns.difference(['country','2019']), 1, inplace=True)\n",
    "df_pg.drop(df_pg.columns.difference(['country','2019']), 1, inplace=True)\n",
    "df_pg.head()"
   ]
  },
  {
   "cell_type": "code",
   "execution_count": 6,
   "metadata": {},
   "outputs": [
    {
     "data": {
      "text/html": [
       "<div>\n",
       "<style scoped>\n",
       "    .dataframe tbody tr th:only-of-type {\n",
       "        vertical-align: middle;\n",
       "    }\n",
       "\n",
       "    .dataframe tbody tr th {\n",
       "        vertical-align: top;\n",
       "    }\n",
       "\n",
       "    .dataframe thead th {\n",
       "        text-align: right;\n",
       "    }\n",
       "</style>\n",
       "<table border=\"1\" class=\"dataframe\">\n",
       "  <thead>\n",
       "    <tr style=\"text-align: right;\">\n",
       "      <th></th>\n",
       "      <th>country</th>\n",
       "      <th>population_growth_rate</th>\n",
       "    </tr>\n",
       "  </thead>\n",
       "  <tbody>\n",
       "    <tr>\n",
       "      <th>0</th>\n",
       "      <td>Aruba</td>\n",
       "      <td>0.437</td>\n",
       "    </tr>\n",
       "    <tr>\n",
       "      <th>1</th>\n",
       "      <td>Afghanistan</td>\n",
       "      <td>2.31</td>\n",
       "    </tr>\n",
       "    <tr>\n",
       "      <th>2</th>\n",
       "      <td>Angola</td>\n",
       "      <td>3.24</td>\n",
       "    </tr>\n",
       "    <tr>\n",
       "      <th>3</th>\n",
       "      <td>Albania</td>\n",
       "      <td>−0.426</td>\n",
       "    </tr>\n",
       "    <tr>\n",
       "      <th>4</th>\n",
       "      <td>Andorra</td>\n",
       "      <td>0.179</td>\n",
       "    </tr>\n",
       "  </tbody>\n",
       "</table>\n",
       "</div>"
      ],
      "text/plain": [
       "       country population_growth_rate\n",
       "0        Aruba                  0.437\n",
       "1  Afghanistan                   2.31\n",
       "2       Angola                   3.24\n",
       "3      Albania                 −0.426\n",
       "4      Andorra                  0.179"
      ]
     },
     "execution_count": 6,
     "metadata": {},
     "output_type": "execute_result"
    }
   ],
   "source": [
    "# Renaming 2019 columns to a name reflective to the values they hold, since we already know that they are all vaules of 2019:\n",
    "\n",
    "df_gdp.rename(columns={'2019':'gdp_per_capita'}, inplace=True)\n",
    "df_pt.rename(columns={'2019':'total_population'}, inplace=True)\n",
    "df_pd.rename(columns={'2019':'population_density '}, inplace=True)\n",
    "df_pg.rename(columns={'2019':'population_growth_rate'}, inplace=True)\n",
    "\n",
    "df_pg.head()"
   ]
  },
  {
   "cell_type": "code",
   "execution_count": 7,
   "metadata": {},
   "outputs": [],
   "source": [
    "# Combing the four datasets into one:\n",
    "\n",
    "df_gdp_pt=df_gdp.merge(df_pt,how='inner', on='country')\n",
    "df_gdp_pt_pd=df_gdp_pt.merge(df_pd,how='inner',on='country')\n",
    "df_gdp_pt_pd_pg=df_gdp_pt_pd.merge(df_pg,how='inner',on='country')\n",
    "df_gdp_pt_pd_pg.columns = df_gdp_pt_pd_pg.columns.str.strip()"
   ]
  },
  {
   "cell_type": "code",
   "execution_count": 8,
   "metadata": {},
   "outputs": [
    {
     "name": "stdout",
     "output_type": "stream",
     "text": [
      "<class 'pandas.core.frame.DataFrame'>\n",
      "Int64Index: 186 entries, 0 to 191\n",
      "Data columns (total 5 columns):\n",
      "country                   186 non-null object\n",
      "gdp_per_capita            186 non-null object\n",
      "total_population          186 non-null object\n",
      "population_density        186 non-null object\n",
      "population_growth_rate    186 non-null object\n",
      "dtypes: object(5)\n",
      "memory usage: 8.7+ KB\n"
     ]
    }
   ],
   "source": [
    "# Droping rows with null vaules:\n",
    "\n",
    "df_gdp_pt_pd_pg.dropna(inplace=True)\n",
    "df_gdp_pt_pd_pg.info()"
   ]
  },
  {
   "cell_type": "code",
   "execution_count": 9,
   "metadata": {
    "scrolled": true
   },
   "outputs": [],
   "source": [
    "# changing data types of all columns expect for country column from object to float:\n",
    "\n",
    "df_gdp_pt_pd_pg['population_growth_rate']=df_gdp_pt_pd_pg['population_growth_rate'].str.replace('−', '-').astype(float)\n",
    "df_gdp_pt_pd_pg['population_density']=df_gdp_pt_pd_pg['population_density'].str.replace('k','*1e3').map(pd.eval).astype(float)\n",
    "df_gdp_pt_pd_pg['gdp_per_capita']=df_gdp_pt_pd_pg['gdp_per_capita'].str.replace('k','*1e3').map(pd.eval).astype(float)\n",
    "df_gdp_pt_pd_pg['total_population']=df_gdp_pt_pd_pg['total_population'].str.replace('k','*1e3').str.replace('M', '*1e6').str.replace('B', '*1e9').map(pd.eval).astype(float)"
   ]
  },
  {
   "cell_type": "code",
   "execution_count": 10,
   "metadata": {},
   "outputs": [
    {
     "name": "stdout",
     "output_type": "stream",
     "text": [
      "<class 'pandas.core.frame.DataFrame'>\n",
      "Int64Index: 186 entries, 0 to 191\n",
      "Data columns (total 5 columns):\n",
      "country                   186 non-null object\n",
      "gdp_per_capita            186 non-null float64\n",
      "total_population          186 non-null float64\n",
      "population_density        186 non-null float64\n",
      "population_growth_rate    186 non-null float64\n",
      "dtypes: float64(4), object(1)\n",
      "memory usage: 8.7+ KB\n"
     ]
    },
    {
     "data": {
      "text/html": [
       "<div>\n",
       "<style scoped>\n",
       "    .dataframe tbody tr th:only-of-type {\n",
       "        vertical-align: middle;\n",
       "    }\n",
       "\n",
       "    .dataframe tbody tr th {\n",
       "        vertical-align: top;\n",
       "    }\n",
       "\n",
       "    .dataframe thead th {\n",
       "        text-align: right;\n",
       "    }\n",
       "</style>\n",
       "<table border=\"1\" class=\"dataframe\">\n",
       "  <thead>\n",
       "    <tr style=\"text-align: right;\">\n",
       "      <th></th>\n",
       "      <th>country</th>\n",
       "      <th>gdp_per_capita</th>\n",
       "      <th>total_population</th>\n",
       "      <th>population_density</th>\n",
       "      <th>population_growth_rate</th>\n",
       "    </tr>\n",
       "  </thead>\n",
       "  <tbody>\n",
       "    <tr>\n",
       "      <th>0</th>\n",
       "      <td>Afghanistan</td>\n",
       "      <td>573.0</td>\n",
       "      <td>38000000.0</td>\n",
       "      <td>58.30</td>\n",
       "      <td>2.310</td>\n",
       "    </tr>\n",
       "    <tr>\n",
       "      <th>1</th>\n",
       "      <td>Angola</td>\n",
       "      <td>3110.0</td>\n",
       "      <td>31800000.0</td>\n",
       "      <td>25.50</td>\n",
       "      <td>3.240</td>\n",
       "    </tr>\n",
       "    <tr>\n",
       "      <th>2</th>\n",
       "      <td>Albania</td>\n",
       "      <td>5210.0</td>\n",
       "      <td>2880000.0</td>\n",
       "      <td>105.00</td>\n",
       "      <td>-0.426</td>\n",
       "    </tr>\n",
       "    <tr>\n",
       "      <th>3</th>\n",
       "      <td>Andorra</td>\n",
       "      <td>46000.0</td>\n",
       "      <td>77100.0</td>\n",
       "      <td>164.00</td>\n",
       "      <td>0.179</td>\n",
       "    </tr>\n",
       "    <tr>\n",
       "      <th>4</th>\n",
       "      <td>United Arab Emirates</td>\n",
       "      <td>41400.0</td>\n",
       "      <td>9770000.0</td>\n",
       "      <td>117.00</td>\n",
       "      <td>1.440</td>\n",
       "    </tr>\n",
       "    <tr>\n",
       "      <th>5</th>\n",
       "      <td>Argentina</td>\n",
       "      <td>9740.0</td>\n",
       "      <td>44800000.0</td>\n",
       "      <td>16.40</td>\n",
       "      <td>0.993</td>\n",
       "    </tr>\n",
       "    <tr>\n",
       "      <th>6</th>\n",
       "      <td>Armenia</td>\n",
       "      <td>4730.0</td>\n",
       "      <td>2960000.0</td>\n",
       "      <td>104.00</td>\n",
       "      <td>0.203</td>\n",
       "    </tr>\n",
       "    <tr>\n",
       "      <th>7</th>\n",
       "      <td>Antigua and Barbuda</td>\n",
       "      <td>15400.0</td>\n",
       "      <td>97100.0</td>\n",
       "      <td>221.00</td>\n",
       "      <td>0.861</td>\n",
       "    </tr>\n",
       "    <tr>\n",
       "      <th>8</th>\n",
       "      <td>Australia</td>\n",
       "      <td>57200.0</td>\n",
       "      <td>25200000.0</td>\n",
       "      <td>3.28</td>\n",
       "      <td>1.520</td>\n",
       "    </tr>\n",
       "    <tr>\n",
       "      <th>9</th>\n",
       "      <td>Austria</td>\n",
       "      <td>50500.0</td>\n",
       "      <td>8960000.0</td>\n",
       "      <td>109.00</td>\n",
       "      <td>0.445</td>\n",
       "    </tr>\n",
       "    <tr>\n",
       "      <th>10</th>\n",
       "      <td>Azerbaijan</td>\n",
       "      <td>5900.0</td>\n",
       "      <td>10000000.0</td>\n",
       "      <td>122.00</td>\n",
       "      <td>0.847</td>\n",
       "    </tr>\n",
       "    <tr>\n",
       "      <th>11</th>\n",
       "      <td>Burundi</td>\n",
       "      <td>208.0</td>\n",
       "      <td>11500000.0</td>\n",
       "      <td>449.00</td>\n",
       "      <td>3.130</td>\n",
       "    </tr>\n",
       "    <tr>\n",
       "      <th>12</th>\n",
       "      <td>Belgium</td>\n",
       "      <td>47600.0</td>\n",
       "      <td>11500000.0</td>\n",
       "      <td>381.00</td>\n",
       "      <td>0.540</td>\n",
       "    </tr>\n",
       "    <tr>\n",
       "      <th>13</th>\n",
       "      <td>Benin</td>\n",
       "      <td>1260.0</td>\n",
       "      <td>11800000.0</td>\n",
       "      <td>105.00</td>\n",
       "      <td>2.720</td>\n",
       "    </tr>\n",
       "    <tr>\n",
       "      <th>14</th>\n",
       "      <td>Burkina Faso</td>\n",
       "      <td>822.0</td>\n",
       "      <td>20300000.0</td>\n",
       "      <td>74.30</td>\n",
       "      <td>2.840</td>\n",
       "    </tr>\n",
       "    <tr>\n",
       "      <th>15</th>\n",
       "      <td>Bangladesh</td>\n",
       "      <td>1290.0</td>\n",
       "      <td>163000000.0</td>\n",
       "      <td>1250.00</td>\n",
       "      <td>1.030</td>\n",
       "    </tr>\n",
       "    <tr>\n",
       "      <th>16</th>\n",
       "      <td>Bulgaria</td>\n",
       "      <td>9060.0</td>\n",
       "      <td>7000000.0</td>\n",
       "      <td>64.50</td>\n",
       "      <td>-0.704</td>\n",
       "    </tr>\n",
       "    <tr>\n",
       "      <th>17</th>\n",
       "      <td>Bahrain</td>\n",
       "      <td>20900.0</td>\n",
       "      <td>1640000.0</td>\n",
       "      <td>2160.00</td>\n",
       "      <td>4.470</td>\n",
       "    </tr>\n",
       "    <tr>\n",
       "      <th>18</th>\n",
       "      <td>Bahamas</td>\n",
       "      <td>28900.0</td>\n",
       "      <td>389000.0</td>\n",
       "      <td>38.90</td>\n",
       "      <td>0.994</td>\n",
       "    </tr>\n",
       "    <tr>\n",
       "      <th>19</th>\n",
       "      <td>Bosnia and Herzegovina</td>\n",
       "      <td>6310.0</td>\n",
       "      <td>3300000.0</td>\n",
       "      <td>64.70</td>\n",
       "      <td>-0.692</td>\n",
       "    </tr>\n",
       "    <tr>\n",
       "      <th>20</th>\n",
       "      <td>Belarus</td>\n",
       "      <td>6730.0</td>\n",
       "      <td>9450000.0</td>\n",
       "      <td>46.60</td>\n",
       "      <td>-0.695</td>\n",
       "    </tr>\n",
       "    <tr>\n",
       "      <th>21</th>\n",
       "      <td>Belize</td>\n",
       "      <td>4250.0</td>\n",
       "      <td>390000.0</td>\n",
       "      <td>17.10</td>\n",
       "      <td>1.880</td>\n",
       "    </tr>\n",
       "    <tr>\n",
       "      <th>22</th>\n",
       "      <td>Bolivia</td>\n",
       "      <td>2580.0</td>\n",
       "      <td>11500000.0</td>\n",
       "      <td>10.60</td>\n",
       "      <td>1.400</td>\n",
       "    </tr>\n",
       "    <tr>\n",
       "      <th>23</th>\n",
       "      <td>Brazil</td>\n",
       "      <td>11200.0</td>\n",
       "      <td>211000000.0</td>\n",
       "      <td>25.30</td>\n",
       "      <td>0.752</td>\n",
       "    </tr>\n",
       "    <tr>\n",
       "      <th>24</th>\n",
       "      <td>Barbados</td>\n",
       "      <td>16100.0</td>\n",
       "      <td>287000.0</td>\n",
       "      <td>667.00</td>\n",
       "      <td>0.133</td>\n",
       "    </tr>\n",
       "    <tr>\n",
       "      <th>25</th>\n",
       "      <td>Brunei</td>\n",
       "      <td>32300.0</td>\n",
       "      <td>433000.0</td>\n",
       "      <td>82.20</td>\n",
       "      <td>1.010</td>\n",
       "    </tr>\n",
       "    <tr>\n",
       "      <th>26</th>\n",
       "      <td>Bhutan</td>\n",
       "      <td>3260.0</td>\n",
       "      <td>763000.0</td>\n",
       "      <td>20.00</td>\n",
       "      <td>1.150</td>\n",
       "    </tr>\n",
       "    <tr>\n",
       "      <th>27</th>\n",
       "      <td>Botswana</td>\n",
       "      <td>8100.0</td>\n",
       "      <td>2300000.0</td>\n",
       "      <td>4.06</td>\n",
       "      <td>2.180</td>\n",
       "    </tr>\n",
       "    <tr>\n",
       "      <th>28</th>\n",
       "      <td>Central African Republic</td>\n",
       "      <td>384.0</td>\n",
       "      <td>4750000.0</td>\n",
       "      <td>7.62</td>\n",
       "      <td>1.670</td>\n",
       "    </tr>\n",
       "    <tr>\n",
       "      <th>29</th>\n",
       "      <td>Canada</td>\n",
       "      <td>52000.0</td>\n",
       "      <td>37400000.0</td>\n",
       "      <td>4.11</td>\n",
       "      <td>1.420</td>\n",
       "    </tr>\n",
       "    <tr>\n",
       "      <th>...</th>\n",
       "      <td>...</td>\n",
       "      <td>...</td>\n",
       "      <td>...</td>\n",
       "      <td>...</td>\n",
       "      <td>...</td>\n",
       "    </tr>\n",
       "    <tr>\n",
       "      <th>160</th>\n",
       "      <td>Suriname</td>\n",
       "      <td>8340.0</td>\n",
       "      <td>581000.0</td>\n",
       "      <td>3.73</td>\n",
       "      <td>0.929</td>\n",
       "    </tr>\n",
       "    <tr>\n",
       "      <th>161</th>\n",
       "      <td>Slovak Republic</td>\n",
       "      <td>21000.0</td>\n",
       "      <td>5460000.0</td>\n",
       "      <td>113.00</td>\n",
       "      <td>0.135</td>\n",
       "    </tr>\n",
       "    <tr>\n",
       "      <th>162</th>\n",
       "      <td>Slovenia</td>\n",
       "      <td>27400.0</td>\n",
       "      <td>2080000.0</td>\n",
       "      <td>103.00</td>\n",
       "      <td>0.696</td>\n",
       "    </tr>\n",
       "    <tr>\n",
       "      <th>163</th>\n",
       "      <td>Sweden</td>\n",
       "      <td>58100.0</td>\n",
       "      <td>10000000.0</td>\n",
       "      <td>24.50</td>\n",
       "      <td>1.010</td>\n",
       "    </tr>\n",
       "    <tr>\n",
       "      <th>164</th>\n",
       "      <td>Eswatini</td>\n",
       "      <td>4820.0</td>\n",
       "      <td>1150000.0</td>\n",
       "      <td>66.80</td>\n",
       "      <td>1.040</td>\n",
       "    </tr>\n",
       "    <tr>\n",
       "      <th>165</th>\n",
       "      <td>Seychelles</td>\n",
       "      <td>14200.0</td>\n",
       "      <td>97700.0</td>\n",
       "      <td>212.00</td>\n",
       "      <td>0.888</td>\n",
       "    </tr>\n",
       "    <tr>\n",
       "      <th>166</th>\n",
       "      <td>Chad</td>\n",
       "      <td>814.0</td>\n",
       "      <td>15900000.0</td>\n",
       "      <td>12.70</td>\n",
       "      <td>2.990</td>\n",
       "    </tr>\n",
       "    <tr>\n",
       "      <th>167</th>\n",
       "      <td>Togo</td>\n",
       "      <td>697.0</td>\n",
       "      <td>8080000.0</td>\n",
       "      <td>149.00</td>\n",
       "      <td>2.420</td>\n",
       "    </tr>\n",
       "    <tr>\n",
       "      <th>168</th>\n",
       "      <td>Thailand</td>\n",
       "      <td>6510.0</td>\n",
       "      <td>69600000.0</td>\n",
       "      <td>136.00</td>\n",
       "      <td>0.284</td>\n",
       "    </tr>\n",
       "    <tr>\n",
       "      <th>169</th>\n",
       "      <td>Tajikistan</td>\n",
       "      <td>1120.0</td>\n",
       "      <td>9320000.0</td>\n",
       "      <td>66.60</td>\n",
       "      <td>2.390</td>\n",
       "    </tr>\n",
       "    <tr>\n",
       "      <th>170</th>\n",
       "      <td>Turkmenistan</td>\n",
       "      <td>8000.0</td>\n",
       "      <td>5940000.0</td>\n",
       "      <td>12.60</td>\n",
       "      <td>1.550</td>\n",
       "    </tr>\n",
       "    <tr>\n",
       "      <th>171</th>\n",
       "      <td>Timor-Leste</td>\n",
       "      <td>978.0</td>\n",
       "      <td>1290000.0</td>\n",
       "      <td>87.00</td>\n",
       "      <td>1.960</td>\n",
       "    </tr>\n",
       "    <tr>\n",
       "      <th>172</th>\n",
       "      <td>Tonga</td>\n",
       "      <td>4350.0</td>\n",
       "      <td>104000.0</td>\n",
       "      <td>145.00</td>\n",
       "      <td>1.250</td>\n",
       "    </tr>\n",
       "    <tr>\n",
       "      <th>173</th>\n",
       "      <td>Trinidad and Tobago</td>\n",
       "      <td>14900.0</td>\n",
       "      <td>1390000.0</td>\n",
       "      <td>272.00</td>\n",
       "      <td>0.368</td>\n",
       "    </tr>\n",
       "    <tr>\n",
       "      <th>174</th>\n",
       "      <td>Tunisia</td>\n",
       "      <td>4400.0</td>\n",
       "      <td>11700000.0</td>\n",
       "      <td>75.30</td>\n",
       "      <td>1.110</td>\n",
       "    </tr>\n",
       "    <tr>\n",
       "      <th>175</th>\n",
       "      <td>Turkey</td>\n",
       "      <td>15100.0</td>\n",
       "      <td>83400000.0</td>\n",
       "      <td>108.00</td>\n",
       "      <td>1.310</td>\n",
       "    </tr>\n",
       "    <tr>\n",
       "      <th>176</th>\n",
       "      <td>Tuvalu</td>\n",
       "      <td>3940.0</td>\n",
       "      <td>11700.0</td>\n",
       "      <td>389.00</td>\n",
       "      <td>1.300</td>\n",
       "    </tr>\n",
       "    <tr>\n",
       "      <th>177</th>\n",
       "      <td>Tanzania</td>\n",
       "      <td>985.0</td>\n",
       "      <td>58000000.0</td>\n",
       "      <td>65.50</td>\n",
       "      <td>2.960</td>\n",
       "    </tr>\n",
       "    <tr>\n",
       "      <th>178</th>\n",
       "      <td>Uganda</td>\n",
       "      <td>963.0</td>\n",
       "      <td>44300000.0</td>\n",
       "      <td>222.00</td>\n",
       "      <td>3.540</td>\n",
       "    </tr>\n",
       "    <tr>\n",
       "      <th>179</th>\n",
       "      <td>Ukraine</td>\n",
       "      <td>3220.0</td>\n",
       "      <td>44000000.0</td>\n",
       "      <td>75.90</td>\n",
       "      <td>-0.531</td>\n",
       "    </tr>\n",
       "    <tr>\n",
       "      <th>180</th>\n",
       "      <td>Uruguay</td>\n",
       "      <td>14300.0</td>\n",
       "      <td>3460000.0</td>\n",
       "      <td>19.80</td>\n",
       "      <td>0.360</td>\n",
       "    </tr>\n",
       "    <tr>\n",
       "      <th>181</th>\n",
       "      <td>United States</td>\n",
       "      <td>55900.0</td>\n",
       "      <td>329000000.0</td>\n",
       "      <td>36.00</td>\n",
       "      <td>0.455</td>\n",
       "    </tr>\n",
       "    <tr>\n",
       "      <th>182</th>\n",
       "      <td>Uzbekistan</td>\n",
       "      <td>2460.0</td>\n",
       "      <td>33000000.0</td>\n",
       "      <td>77.50</td>\n",
       "      <td>1.880</td>\n",
       "    </tr>\n",
       "    <tr>\n",
       "      <th>183</th>\n",
       "      <td>St. Vincent and the Grenadines</td>\n",
       "      <td>6860.0</td>\n",
       "      <td>111000.0</td>\n",
       "      <td>284.00</td>\n",
       "      <td>0.347</td>\n",
       "    </tr>\n",
       "    <tr>\n",
       "      <th>185</th>\n",
       "      <td>Vietnam</td>\n",
       "      <td>2080.0</td>\n",
       "      <td>96500000.0</td>\n",
       "      <td>311.00</td>\n",
       "      <td>0.954</td>\n",
       "    </tr>\n",
       "    <tr>\n",
       "      <th>186</th>\n",
       "      <td>Vanuatu</td>\n",
       "      <td>2870.0</td>\n",
       "      <td>300000.0</td>\n",
       "      <td>24.60</td>\n",
       "      <td>2.430</td>\n",
       "    </tr>\n",
       "    <tr>\n",
       "      <th>187</th>\n",
       "      <td>Samoa</td>\n",
       "      <td>3870.0</td>\n",
       "      <td>197000.0</td>\n",
       "      <td>69.60</td>\n",
       "      <td>0.491</td>\n",
       "    </tr>\n",
       "    <tr>\n",
       "      <th>189</th>\n",
       "      <td>South Africa</td>\n",
       "      <td>7350.0</td>\n",
       "      <td>58600000.0</td>\n",
       "      <td>48.30</td>\n",
       "      <td>1.320</td>\n",
       "    </tr>\n",
       "    <tr>\n",
       "      <th>190</th>\n",
       "      <td>Zambia</td>\n",
       "      <td>1650.0</td>\n",
       "      <td>17900000.0</td>\n",
       "      <td>24.00</td>\n",
       "      <td>2.890</td>\n",
       "    </tr>\n",
       "    <tr>\n",
       "      <th>191</th>\n",
       "      <td>Zimbabwe</td>\n",
       "      <td>1170.0</td>\n",
       "      <td>14600000.0</td>\n",
       "      <td>37.90</td>\n",
       "      <td>1.420</td>\n",
       "    </tr>\n",
       "  </tbody>\n",
       "</table>\n",
       "<p>186 rows × 5 columns</p>\n",
       "</div>"
      ],
      "text/plain": [
       "                            country  gdp_per_capita  total_population  \\\n",
       "0                       Afghanistan           573.0        38000000.0   \n",
       "1                            Angola          3110.0        31800000.0   \n",
       "2                           Albania          5210.0         2880000.0   \n",
       "3                           Andorra         46000.0           77100.0   \n",
       "4              United Arab Emirates         41400.0         9770000.0   \n",
       "5                         Argentina          9740.0        44800000.0   \n",
       "6                           Armenia          4730.0         2960000.0   \n",
       "7               Antigua and Barbuda         15400.0           97100.0   \n",
       "8                         Australia         57200.0        25200000.0   \n",
       "9                           Austria         50500.0         8960000.0   \n",
       "10                       Azerbaijan          5900.0        10000000.0   \n",
       "11                          Burundi           208.0        11500000.0   \n",
       "12                          Belgium         47600.0        11500000.0   \n",
       "13                            Benin          1260.0        11800000.0   \n",
       "14                     Burkina Faso           822.0        20300000.0   \n",
       "15                       Bangladesh          1290.0       163000000.0   \n",
       "16                         Bulgaria          9060.0         7000000.0   \n",
       "17                          Bahrain         20900.0         1640000.0   \n",
       "18                          Bahamas         28900.0          389000.0   \n",
       "19           Bosnia and Herzegovina          6310.0         3300000.0   \n",
       "20                          Belarus          6730.0         9450000.0   \n",
       "21                           Belize          4250.0          390000.0   \n",
       "22                          Bolivia          2580.0        11500000.0   \n",
       "23                           Brazil         11200.0       211000000.0   \n",
       "24                         Barbados         16100.0          287000.0   \n",
       "25                           Brunei         32300.0          433000.0   \n",
       "26                           Bhutan          3260.0          763000.0   \n",
       "27                         Botswana          8100.0         2300000.0   \n",
       "28         Central African Republic           384.0         4750000.0   \n",
       "29                           Canada         52000.0        37400000.0   \n",
       "..                              ...             ...               ...   \n",
       "160                        Suriname          8340.0          581000.0   \n",
       "161                 Slovak Republic         21000.0         5460000.0   \n",
       "162                        Slovenia         27400.0         2080000.0   \n",
       "163                          Sweden         58100.0        10000000.0   \n",
       "164                        Eswatini          4820.0         1150000.0   \n",
       "165                      Seychelles         14200.0           97700.0   \n",
       "166                            Chad           814.0        15900000.0   \n",
       "167                            Togo           697.0         8080000.0   \n",
       "168                        Thailand          6510.0        69600000.0   \n",
       "169                      Tajikistan          1120.0         9320000.0   \n",
       "170                    Turkmenistan          8000.0         5940000.0   \n",
       "171                     Timor-Leste           978.0         1290000.0   \n",
       "172                           Tonga          4350.0          104000.0   \n",
       "173             Trinidad and Tobago         14900.0         1390000.0   \n",
       "174                         Tunisia          4400.0        11700000.0   \n",
       "175                          Turkey         15100.0        83400000.0   \n",
       "176                          Tuvalu          3940.0           11700.0   \n",
       "177                        Tanzania           985.0        58000000.0   \n",
       "178                          Uganda           963.0        44300000.0   \n",
       "179                         Ukraine          3220.0        44000000.0   \n",
       "180                         Uruguay         14300.0         3460000.0   \n",
       "181                   United States         55900.0       329000000.0   \n",
       "182                      Uzbekistan          2460.0        33000000.0   \n",
       "183  St. Vincent and the Grenadines          6860.0          111000.0   \n",
       "185                         Vietnam          2080.0        96500000.0   \n",
       "186                         Vanuatu          2870.0          300000.0   \n",
       "187                           Samoa          3870.0          197000.0   \n",
       "189                    South Africa          7350.0        58600000.0   \n",
       "190                          Zambia          1650.0        17900000.0   \n",
       "191                        Zimbabwe          1170.0        14600000.0   \n",
       "\n",
       "     population_density  population_growth_rate  \n",
       "0                 58.30                   2.310  \n",
       "1                 25.50                   3.240  \n",
       "2                105.00                  -0.426  \n",
       "3                164.00                   0.179  \n",
       "4                117.00                   1.440  \n",
       "5                 16.40                   0.993  \n",
       "6                104.00                   0.203  \n",
       "7                221.00                   0.861  \n",
       "8                  3.28                   1.520  \n",
       "9                109.00                   0.445  \n",
       "10               122.00                   0.847  \n",
       "11               449.00                   3.130  \n",
       "12               381.00                   0.540  \n",
       "13               105.00                   2.720  \n",
       "14                74.30                   2.840  \n",
       "15              1250.00                   1.030  \n",
       "16                64.50                  -0.704  \n",
       "17              2160.00                   4.470  \n",
       "18                38.90                   0.994  \n",
       "19                64.70                  -0.692  \n",
       "20                46.60                  -0.695  \n",
       "21                17.10                   1.880  \n",
       "22                10.60                   1.400  \n",
       "23                25.30                   0.752  \n",
       "24               667.00                   0.133  \n",
       "25                82.20                   1.010  \n",
       "26                20.00                   1.150  \n",
       "27                 4.06                   2.180  \n",
       "28                 7.62                   1.670  \n",
       "29                 4.11                   1.420  \n",
       "..                  ...                     ...  \n",
       "160                3.73                   0.929  \n",
       "161              113.00                   0.135  \n",
       "162              103.00                   0.696  \n",
       "163               24.50                   1.010  \n",
       "164               66.80                   1.040  \n",
       "165              212.00                   0.888  \n",
       "166               12.70                   2.990  \n",
       "167              149.00                   2.420  \n",
       "168              136.00                   0.284  \n",
       "169               66.60                   2.390  \n",
       "170               12.60                   1.550  \n",
       "171               87.00                   1.960  \n",
       "172              145.00                   1.250  \n",
       "173              272.00                   0.368  \n",
       "174               75.30                   1.110  \n",
       "175              108.00                   1.310  \n",
       "176              389.00                   1.300  \n",
       "177               65.50                   2.960  \n",
       "178              222.00                   3.540  \n",
       "179               75.90                  -0.531  \n",
       "180               19.80                   0.360  \n",
       "181               36.00                   0.455  \n",
       "182               77.50                   1.880  \n",
       "183              284.00                   0.347  \n",
       "185              311.00                   0.954  \n",
       "186               24.60                   2.430  \n",
       "187               69.60                   0.491  \n",
       "189               48.30                   1.320  \n",
       "190               24.00                   2.890  \n",
       "191               37.90                   1.420  \n",
       "\n",
       "[186 rows x 5 columns]"
      ]
     },
     "execution_count": 10,
     "metadata": {},
     "output_type": "execute_result"
    }
   ],
   "source": [
    "df_gdp_pt_pd_pg.info()\n",
    "df_gdp_pt_pd_pg"
   ]
  },
  {
   "cell_type": "code",
   "execution_count": 11,
   "metadata": {},
   "outputs": [],
   "source": [
    "#saving the cleaned dataset into a new file:\n",
    "df_gdp_pt_pd_pg.to_csv(\"cleaned_gapminder_dataset.csv\",index=False)"
   ]
  },
  {
   "cell_type": "markdown",
   "metadata": {},
   "source": [
    "<a id='eda'></a>\n",
    "## Exploratory Data Analysis\n",
    "\n",
    "\n",
    "## is their any relationship between GDP per capita and population trends (total population, population density and annual population growth). and if so, which independent variable is most correlated to the dependent variable."
   ]
  },
  {
   "cell_type": "code",
   "execution_count": 12,
   "metadata": {},
   "outputs": [
    {
     "data": {
      "text/html": [
       "<div>\n",
       "<style scoped>\n",
       "    .dataframe tbody tr th:only-of-type {\n",
       "        vertical-align: middle;\n",
       "    }\n",
       "\n",
       "    .dataframe tbody tr th {\n",
       "        vertical-align: top;\n",
       "    }\n",
       "\n",
       "    .dataframe thead th {\n",
       "        text-align: right;\n",
       "    }\n",
       "</style>\n",
       "<table border=\"1\" class=\"dataframe\">\n",
       "  <thead>\n",
       "    <tr style=\"text-align: right;\">\n",
       "      <th></th>\n",
       "      <th>gdp_per_capita</th>\n",
       "      <th>total_population</th>\n",
       "      <th>population_density</th>\n",
       "      <th>population_growth_rate</th>\n",
       "    </tr>\n",
       "  </thead>\n",
       "  <tbody>\n",
       "    <tr>\n",
       "      <th>count</th>\n",
       "      <td>186.000</td>\n",
       "      <td>186.000</td>\n",
       "      <td>186.000</td>\n",
       "      <td>186.000</td>\n",
       "    </tr>\n",
       "    <tr>\n",
       "      <th>mean</th>\n",
       "      <td>15532.871</td>\n",
       "      <td>40593299.462</td>\n",
       "      <td>390.768</td>\n",
       "      <td>1.287</td>\n",
       "    </tr>\n",
       "    <tr>\n",
       "      <th>std</th>\n",
       "      <td>24279.663</td>\n",
       "      <td>149870464.096</td>\n",
       "      <td>2073.808</td>\n",
       "      <td>1.094</td>\n",
       "    </tr>\n",
       "    <tr>\n",
       "      <th>min</th>\n",
       "      <td>208.000</td>\n",
       "      <td>10800.000</td>\n",
       "      <td>2.080</td>\n",
       "      <td>-1.670</td>\n",
       "    </tr>\n",
       "    <tr>\n",
       "      <th>25%</th>\n",
       "      <td>2035.000</td>\n",
       "      <td>2080000.000</td>\n",
       "      <td>38.000</td>\n",
       "      <td>0.492</td>\n",
       "    </tr>\n",
       "    <tr>\n",
       "      <th>50%</th>\n",
       "      <td>6020.000</td>\n",
       "      <td>8555000.000</td>\n",
       "      <td>88.800</td>\n",
       "      <td>1.240</td>\n",
       "    </tr>\n",
       "    <tr>\n",
       "      <th>75%</th>\n",
       "      <td>17075.000</td>\n",
       "      <td>29950000.000</td>\n",
       "      <td>215.750</td>\n",
       "      <td>2.072</td>\n",
       "    </tr>\n",
       "    <tr>\n",
       "      <th>max</th>\n",
       "      <td>209000.000</td>\n",
       "      <td>1430000000.000</td>\n",
       "      <td>26200.000</td>\n",
       "      <td>4.470</td>\n",
       "    </tr>\n",
       "  </tbody>\n",
       "</table>\n",
       "</div>"
      ],
      "text/plain": [
       "       gdp_per_capita  total_population  population_density  \\\n",
       "count         186.000           186.000             186.000   \n",
       "mean        15532.871      40593299.462             390.768   \n",
       "std         24279.663     149870464.096            2073.808   \n",
       "min           208.000         10800.000               2.080   \n",
       "25%          2035.000       2080000.000              38.000   \n",
       "50%          6020.000       8555000.000              88.800   \n",
       "75%         17075.000      29950000.000             215.750   \n",
       "max        209000.000    1430000000.000           26200.000   \n",
       "\n",
       "       population_growth_rate  \n",
       "count                 186.000  \n",
       "mean                    1.287  \n",
       "std                     1.094  \n",
       "min                    -1.670  \n",
       "25%                     0.492  \n",
       "50%                     1.240  \n",
       "75%                     2.072  \n",
       "max                     4.470  "
      ]
     },
     "execution_count": 12,
     "metadata": {},
     "output_type": "execute_result"
    }
   ],
   "source": [
    "pd.set_option('display.float_format', lambda x: '%.3f' % x)\n",
    "df_gapminder=pd.read_csv('cleaned_gapminder_dataset.csv')\n",
    "df_gapminder.describe()"
   ]
  },
  {
   "cell_type": "code",
   "execution_count": 13,
   "metadata": {},
   "outputs": [],
   "source": [
    "#creating a dataframes for low,medium and high gdp per capitia to compare with the independent variables, I'm using the world bank definitions \n",
    "# as a guideline:https://blogs.worldbank.org/opendata/new-world-bank-country-classifications-income-level-2020-2021.\n",
    "\n",
    "df_low_gdp=df_gapminder.query('gdp_per_capita < 5000')\n",
    "df_medium_gdp=df_gapminder.query('gdp_per_capita >= 5000' and 'gdp_per_capita < 15000')\n",
    "df_high_gdp=df_gapminder.query('gdp_per_capita >= 15000')"
   ]
  },
  {
   "cell_type": "code",
   "execution_count": 26,
   "metadata": {},
   "outputs": [
    {
     "name": "stdout",
     "output_type": "stream",
     "text": [
      "148.736785714\n",
      "149.955681818\n",
      "979.419814815\n"
     ]
    },
    {
     "data": {
      "image/png": "[encoded data removed]",
      "text/plain": [
       "<matplotlib.figure.Figure at 0x7fa43fd0dc50>"
      ]
     },
     "metadata": {
      "needs_background": "light"
     },
     "output_type": "display_data"
    }
   ],
   "source": [
    "# comparing the mean of population density for each income bracket:\n",
    "\n",
    "print(df_low_gdp.mean().population_density)\n",
    "\n",
    "print(df_medium_gdp.mean().population_density)\n",
    "\n",
    "print(df_high_gdp.mean().population_density)\n",
    "\n",
    "locations = [1,2,3]\n",
    "heights = [df_low_gdp.population_density.mean(), df_medium_gdp.population_density.mean(),df_high_gdp.population_density.mean()]\n",
    "labels = ['Low','Medium', 'High']\n",
    "plt.bar(locations, heights, tick_label=labels)\n",
    "plt.title('Average population density by countries income level')\n",
    "plt.xlabel('countries income level')\n",
    "plt.ylabel('Average popualtion density');"
   ]
  },
  {
   "cell_type": "markdown",
   "metadata": {},
   "source": [
    "it looks like the mean of the population density for the low and medium income countries are very similar, however the mean for the high income countries is much higher "
   ]
  },
  {
   "cell_type": "code",
   "execution_count": 27,
   "metadata": {},
   "outputs": [
    {
     "name": "stdout",
     "output_type": "stream",
     "text": [
      "1.83744047619\n",
      "1.46975454545\n",
      "0.841296296296\n"
     ]
    },
    {
     "data": {
      "image/png": "[encoded data removed]",
      "text/plain": [
       "<matplotlib.figure.Figure at 0x7fa43fd0dac8>"
      ]
     },
     "metadata": {
      "needs_background": "light"
     },
     "output_type": "display_data"
    }
   ],
   "source": [
    "# comparing the mean of population growth rate for each income bracket:\n",
    "\n",
    "print(df_low_gdp.population_growth_rate.mean())\n",
    "\n",
    "print(df_medium_gdp.population_growth_rate.mean())\n",
    "\n",
    "print(df_high_gdp.population_growth_rate.mean())\n",
    "\n",
    "locations = [1,2,3]\n",
    "heights = [df_low_gdp.population_growth_rate.mean(),df_medium_gdp.population_growth_rate.mean(),df_high_gdp.population_growth_rate.mean()]\n",
    "labels = ['Low','Medium', 'High']\n",
    "plt.bar(locations, heights, tick_label=labels)\n",
    "plt.title('Average population growth rate by countries income level')\n",
    "plt.xlabel('countries income level')\n",
    "plt.ylabel('Average popualtion growth rate');"
   ]
  },
  {
   "cell_type": "markdown",
   "metadata": {},
   "source": [
    "it looks like the mean growth rate for low  income countries are the highest, whereas the the mean for high income countries is lowest"
   ]
  },
  {
   "cell_type": "code",
   "execution_count": 28,
   "metadata": {
    "scrolled": true
   },
   "outputs": [
    {
     "name": "stdout",
     "output_type": "stream",
     "text": [
      "45153125.0\n",
      "47667650.0\n",
      "23300442.5926\n"
     ]
    },
    {
     "data": {
      "image/png": "[encoded data removed]",
      "text/plain": [
       "<matplotlib.figure.Figure at 0x7fa4402f8860>"
      ]
     },
     "metadata": {
      "needs_background": "light"
     },
     "output_type": "display_data"
    }
   ],
   "source": [
    "# comparing the mean of total population for each income bracket:\n",
    "\n",
    "print(df_low_gdp.total_population.mean())\n",
    "\n",
    "print(df_medium_gdp.total_population.mean())\n",
    "\n",
    "print(df_high_gdp.total_population.mean())\n",
    "\n",
    "locations = [1,2,3]\n",
    "heights = [df_low_gdp.total_population.mean(), df_medium_gdp.total_population.mean(),df_high_gdp.total_population.mean()]\n",
    "labels = ['Low','Medium', 'High']\n",
    "plt.bar(locations, heights, tick_label=labels)\n",
    "plt.title('Average total population by countries income level')\n",
    "plt.xlabel('countries income level')\n",
    "plt.ylabel('Average total popualtion');"
   ]
  },
  {
   "cell_type": "markdown",
   "metadata": {},
   "source": [
    "it looks like the mean of the total population for the low and medium income countries are very similar, however the mean for the high income countries is lower"
   ]
  },
  {
   "cell_type": "code",
   "execution_count": 17,
   "metadata": {
    "scrolled": true
   },
   "outputs": [
    {
     "data": {
      "image/png": "[encoded data removed]",
      "text/plain": [
       "<matplotlib.figure.Figure at 0x7fa440474588>"
      ]
     },
     "metadata": {
      "needs_background": "light"
     },
     "output_type": "display_data"
    }
   ],
   "source": [
    "df_gapminder.hist(figsize=[5,5]);"
   ]
  },
  {
   "cell_type": "code",
   "execution_count": 18,
   "metadata": {},
   "outputs": [],
   "source": [
    "# function takes two arguments: x-axis variable and y-axis variable and plot a scatter graph of the relationship between the two\n",
    "\n",
    "def scatterplot(x_axis_var, y_axis_var):\n",
    "    \n",
    "    df_gapminder.plot.scatter(x= x_axis_var, y=y_axis_var,figsize=[5,5])\n",
    "\n",
    "    plt.title(F'scatter plot between {x_axis_var} and {y_axis_var}'.title(),\n",
    "               fontsize = 9, weight = \"bold\")\n",
    "    \n",
    "    plt.xlabel(x_axis_var.title(),\n",
    "               fontsize = 7, weight = \"bold\")\n",
    "    \n",
    "    plt.ylabel(y_axis_var.title(),\n",
    "               fontsize = 7, weight = \"bold\")  \n",
    "    \n",
    "    print(\"pearson's coefficient =\",df_gapminder[x_axis_var].corr(df_gapminder[y_axis_var]))\n",
    "    "
   ]
  },
  {
   "cell_type": "code",
   "execution_count": 19,
   "metadata": {},
   "outputs": [
    {
     "name": "stdout",
     "output_type": "stream",
     "text": [
      "pearson's coefficient = -0.0497040096289\n"
     ]
    },
    {
     "data": {
      "text/plain": [
       "(0, 100000000)"
      ]
     },
     "execution_count": 19,
     "metadata": {},
     "output_type": "execute_result"
    },
    {
     "data": {
      "image/png": "[encoded data removed]",
      "text/plain": [
       "<matplotlib.figure.Figure at 0x7fa43fdb3320>"
      ]
     },
     "metadata": {
      "needs_background": "light"
     },
     "output_type": "display_data"
    }
   ],
   "source": [
    "scatterplot('gdp_per_capita','total_population')\n",
    "    \n",
    "#to limit the outliers and have a cleaner graph:\n",
    "plt.xlim([0, 50000])\n",
    "plt.ylim([0,100000000])"
   ]
  },
  {
   "cell_type": "markdown",
   "metadata": {},
   "source": [
    "no clear correlation between population size and gdp per capitia from the graph or Pearson's Correlation Coefficient"
   ]
  },
  {
   "cell_type": "code",
   "execution_count": 20,
   "metadata": {
    "scrolled": true
   },
   "outputs": [
    {
     "name": "stdout",
     "output_type": "stream",
     "text": [
      "pearson's coefficient = 0.601088337156\n"
     ]
    },
    {
     "data": {
      "text/plain": [
       "(0, 1000)"
      ]
     },
     "execution_count": 20,
     "metadata": {},
     "output_type": "execute_result"
    },
    {
     "data": {
      "image/png": "[encoded data removed]",
      "text/plain": [
       "<matplotlib.figure.Figure at 0x7fa4403d8e48>"
      ]
     },
     "metadata": {
      "needs_background": "light"
     },
     "output_type": "display_data"
    }
   ],
   "source": [
    "scatterplot('gdp_per_capita','population_density')\n",
    "\n",
    "#to limit outliers:\n",
    "plt.xlim([0, 50000])\n",
    "plt.ylim([0,1000])"
   ]
  },
  {
   "cell_type": "markdown",
   "metadata": {},
   "source": [
    "no clear correlation between gdp per capitia and population density from the graph, were as Pearson's Correlation Coefficient\n",
    "indicate a positive correlation."
   ]
  },
  {
   "cell_type": "code",
   "execution_count": 21,
   "metadata": {},
   "outputs": [
    {
     "name": "stdout",
     "output_type": "stream",
     "text": [
      "pearson's coefficient = -0.223465007643\n"
     ]
    },
    {
     "data": {
      "text/plain": [
       "(-1, 5)"
      ]
     },
     "execution_count": 21,
     "metadata": {},
     "output_type": "execute_result"
    },
    {
     "data": {
      "image/png": "[encoded data removed]",
      "text/plain": [
       "<matplotlib.figure.Figure at 0x7fa43fb3b438>"
      ]
     },
     "metadata": {
      "needs_background": "light"
     },
     "output_type": "display_data"
    }
   ],
   "source": [
    "scatterplot('gdp_per_capita','population_growth_rate')\n",
    "\n",
    "# to limit the outliers:\n",
    "plt.xlim([0, 50000])\n",
    "plt.ylim([-1,5])"
   ]
  },
  {
   "cell_type": "markdown",
   "metadata": {},
   "source": [
    "no clear correlation between gdp per capitia and population growth rate from the graph, were as Pearson's Correlation Coefficient indicate a somewhat negative correlation"
   ]
  },
  {
   "cell_type": "markdown",
   "metadata": {},
   "source": [
    "### Is there any correlation between the three independent variables (total population, population density and population growth rate)"
   ]
  },
  {
   "cell_type": "code",
   "execution_count": 22,
   "metadata": {
    "scrolled": true
   },
   "outputs": [
    {
     "name": "stdout",
     "output_type": "stream",
     "text": [
      "pearson's coefficient = -0.0270447789757\n"
     ]
    },
    {
     "data": {
      "text/plain": [
       "(0, 1000)"
      ]
     },
     "execution_count": 22,
     "metadata": {},
     "output_type": "execute_result"
    },
    {
     "data": {
      "image/png": "[encoded data removed]",
      "text/plain": [
       "<matplotlib.figure.Figure at 0x7fa43fce3978>"
      ]
     },
     "metadata": {
      "needs_background": "light"
     },
     "output_type": "display_data"
    }
   ],
   "source": [
    "scatterplot('population_density','population_growth_rate')\n",
    "    \n",
    "plt.xlim([0,1000])"
   ]
  },
  {
   "cell_type": "markdown",
   "metadata": {},
   "source": [
    "no clear correlation bettween population density and growth rate"
   ]
  },
  {
   "cell_type": "code",
   "execution_count": 23,
   "metadata": {
    "scrolled": true
   },
   "outputs": [
    {
     "name": "stdout",
     "output_type": "stream",
     "text": [
      "pearson's coefficient = -0.02071925781\n"
     ]
    },
    {
     "data": {
      "text/plain": [
       "(0, 1000)"
      ]
     },
     "execution_count": 23,
     "metadata": {},
     "output_type": "execute_result"
    },
    {
     "data": {
      "image/png": "[encoded data removed]",
      "text/plain": [
       "<matplotlib.figure.Figure at 0x7fa43fa0b198>"
      ]
     },
     "metadata": {
      "needs_background": "light"
     },
     "output_type": "display_data"
    }
   ],
   "source": [
    "scatterplot('population_density','total_population')\n",
    "\n",
    "plt.ylim([0,100000000])\n",
    "plt.xlim([0,1000])"
   ]
  },
  {
   "cell_type": "markdown",
   "metadata": {},
   "source": [
    "no clear correlation bettween population density and total population"
   ]
  },
  {
   "cell_type": "code",
   "execution_count": 24,
   "metadata": {},
   "outputs": [
    {
     "name": "stdout",
     "output_type": "stream",
     "text": [
      "pearson's coefficient = -0.0551267313013\n"
     ]
    },
    {
     "data": {
      "text/plain": [
       "(-1, 5)"
      ]
     },
     "execution_count": 24,
     "metadata": {},
     "output_type": "execute_result"
    },
    {
     "data": {
      "image/png": "[encoded data removed]",
      "text/plain": [
       "<matplotlib.figure.Figure at 0x7fa43fa1ba58>"
      ]
     },
     "metadata": {
      "needs_background": "light"
     },
     "output_type": "display_data"
    }
   ],
   "source": [
    "scatterplot('total_population','population_growth_rate')\n",
    "\n",
    "plt.xlim([0,100000000])\n",
    "plt.ylim([-1,5])"
   ]
  },
  {
   "cell_type": "markdown",
   "metadata": {},
   "source": [
    "no clear correlation bettween population growth rate and total population"
   ]
  },
  {
   "cell_type": "markdown",
   "metadata": {},
   "source": [
    "<a id='conclusions'></a>\n",
    "## Conclusions\n",
    "\n",
    "> after my analysis, I conclude that there is no particular correlation betwwen GDP per capita and total population, a weak negative correlation between GDP per capita and population growth rate and a positive correlation between GDP per capita and population density. I also found that high income countries tend to have a higher average  population density and a lower average total population and population growth rate compared to medium and low income countries. my analysis also indicated no correlation between any of the three independent variables whatsoever. however, a much depper analysis using machine learining and inferential statistics would help in proving or disproving my findings. \n",
    "\n",
    "### Limitations\n",
    "\n",
    ">  the cutoff values that I used in spliting the GDP per capita column into high,medium and low income countries datafrmes might not be accurate, since I depended on a external source and didnt follow the guidelines in that source fully.\n",
    "\n",
    "## Submitting your Project "
   ]
  },
  {
   "cell_type": "code",
   "execution_count": 30,
   "metadata": {},
   "outputs": [
    {
     "data": {
      "text/plain": [
       "0"
      ]
     },
     "execution_count": 30,
     "metadata": {},
     "output_type": "execute_result"
    }
   ],
   "source": [
    "from subprocess import call\n",
    "call(['python', '-m', 'nbconvert', 'Investigate_a_Dataset.ipynb'])"
   ]
  },
  {
   "cell_type": "code",
   "execution_count": null,
   "metadata": {},
   "outputs": [],
   "source": []
  }
 ],
 "metadata": {
  "kernelspec": {
   "display_name": "Python 3",
   "language": "python",
   "name": "python3"
  },
  "language_info": {
   "codemirror_mode": {
    "name": "ipython",
    "version": 3
   },
   "file_extension": ".py",
   "mimetype": "text/x-python",
   "name": "python",
   "nbconvert_exporter": "python",
   "pygments_lexer": "ipython3",
   "version": "3.6.3"
  }
 },
 "nbformat": 4,
 "nbformat_minor": 2
}
